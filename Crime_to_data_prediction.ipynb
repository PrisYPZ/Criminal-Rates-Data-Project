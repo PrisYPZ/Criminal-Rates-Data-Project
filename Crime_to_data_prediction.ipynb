{
 "cells": [
  {
   "cell_type": "markdown",
   "metadata": {
    "toc": true
   },
   "source": [
    "<h1>Table of Contents<span class=\"tocSkip\"></span></h1>\n",
    "<div class=\"toc\"><ul class=\"toc-item\"></ul></div>"
   ]
  },
  {
   "cell_type": "code",
   "execution_count": 1,
   "metadata": {},
   "outputs": [],
   "source": [
    "#Import packages first\n",
    "import pandas as pd\n",
    "import matplotlib.pyplot as plt"
   ]
  },
  {
   "cell_type": "code",
   "execution_count": 2,
   "metadata": {},
   "outputs": [],
   "source": [
    "df1=pd.read_csv(\"Crime_Data_from_2010_to_Present.csv\")"
   ]
  },
  {
   "cell_type": "code",
   "execution_count": 3,
   "metadata": {
    "scrolled": true
   },
   "outputs": [
    {
     "data": {
      "text/html": [
       "<div>\n",
       "<style scoped>\n",
       "    .dataframe tbody tr th:only-of-type {\n",
       "        vertical-align: middle;\n",
       "    }\n",
       "\n",
       "    .dataframe tbody tr th {\n",
       "        vertical-align: top;\n",
       "    }\n",
       "\n",
       "    .dataframe thead th {\n",
       "        text-align: right;\n",
       "    }\n",
       "</style>\n",
       "<table border=\"1\" class=\"dataframe\">\n",
       "  <thead>\n",
       "    <tr style=\"text-align: right;\">\n",
       "      <th></th>\n",
       "      <th>DR Number</th>\n",
       "      <th>Date Reported</th>\n",
       "      <th>Date Occurred</th>\n",
       "      <th>Time Occurred</th>\n",
       "      <th>Area ID</th>\n",
       "      <th>Area Name</th>\n",
       "      <th>Reporting District</th>\n",
       "      <th>Crime Code</th>\n",
       "      <th>Crime Code Description</th>\n",
       "      <th>MO Codes</th>\n",
       "      <th>...</th>\n",
       "      <th>Weapon Description</th>\n",
       "      <th>Status Code</th>\n",
       "      <th>Status Description</th>\n",
       "      <th>Crime Code 1</th>\n",
       "      <th>Crime Code 2</th>\n",
       "      <th>Crime Code 3</th>\n",
       "      <th>Crime Code 4</th>\n",
       "      <th>Address</th>\n",
       "      <th>Cross Street</th>\n",
       "      <th>Location</th>\n",
       "    </tr>\n",
       "  </thead>\n",
       "  <tbody>\n",
       "    <tr>\n",
       "      <th>0</th>\n",
       "      <td>809</td>\n",
       "      <td>01/17/2015</td>\n",
       "      <td>01/16/2015</td>\n",
       "      <td>2130</td>\n",
       "      <td>9</td>\n",
       "      <td>Van Nuys</td>\n",
       "      <td>938</td>\n",
       "      <td>510</td>\n",
       "      <td>VEHICLE - STOLEN</td>\n",
       "      <td>NaN</td>\n",
       "      <td>...</td>\n",
       "      <td>NaN</td>\n",
       "      <td>IC</td>\n",
       "      <td>Invest Cont</td>\n",
       "      <td>510.0</td>\n",
       "      <td>NaN</td>\n",
       "      <td>NaN</td>\n",
       "      <td>NaN</td>\n",
       "      <td>6200    FULTON                       AV</td>\n",
       "      <td>NaN</td>\n",
       "      <td>(34.1814, -118.4263)</td>\n",
       "    </tr>\n",
       "    <tr>\n",
       "      <th>1</th>\n",
       "      <td>141801696</td>\n",
       "      <td>01/01/2015</td>\n",
       "      <td>01/01/2015</td>\n",
       "      <td>230</td>\n",
       "      <td>18</td>\n",
       "      <td>Southeast</td>\n",
       "      <td>1823</td>\n",
       "      <td>626</td>\n",
       "      <td>INTIMATE PARTNER - SIMPLE ASSAULT</td>\n",
       "      <td>2000 0444 0429 0416 1276</td>\n",
       "      <td>...</td>\n",
       "      <td>STRONG-ARM (HANDS, FIST, FEET OR BODILY FORCE)</td>\n",
       "      <td>IC</td>\n",
       "      <td>Invest Cont</td>\n",
       "      <td>626.0</td>\n",
       "      <td>NaN</td>\n",
       "      <td>NaN</td>\n",
       "      <td>NaN</td>\n",
       "      <td>200 E  97TH                         ST</td>\n",
       "      <td>NaN</td>\n",
       "      <td>(33.9483, -118.2717)</td>\n",
       "    </tr>\n",
       "    <tr>\n",
       "      <th>2</th>\n",
       "      <td>141816266</td>\n",
       "      <td>11/05/2015</td>\n",
       "      <td>10/01/2015</td>\n",
       "      <td>800</td>\n",
       "      <td>12</td>\n",
       "      <td>77th Street</td>\n",
       "      <td>1249</td>\n",
       "      <td>805</td>\n",
       "      <td>PIMPING</td>\n",
       "      <td>1402 0908 0913</td>\n",
       "      <td>...</td>\n",
       "      <td>NaN</td>\n",
       "      <td>AA</td>\n",
       "      <td>Adult Arrest</td>\n",
       "      <td>805.0</td>\n",
       "      <td>998.0</td>\n",
       "      <td>NaN</td>\n",
       "      <td>NaN</td>\n",
       "      <td>FIGUEROA                     ST</td>\n",
       "      <td>65TH                         ST</td>\n",
       "      <td>(33.9807, -118.2827)</td>\n",
       "    </tr>\n",
       "    <tr>\n",
       "      <th>3</th>\n",
       "      <td>150100503</td>\n",
       "      <td>01/01/2015</td>\n",
       "      <td>01/01/2015</td>\n",
       "      <td>40</td>\n",
       "      <td>1</td>\n",
       "      <td>Central</td>\n",
       "      <td>111</td>\n",
       "      <td>745</td>\n",
       "      <td>VANDALISM - MISDEAMEANOR ($399 OR UNDER)</td>\n",
       "      <td>0329 1402</td>\n",
       "      <td>...</td>\n",
       "      <td>NaN</td>\n",
       "      <td>IC</td>\n",
       "      <td>Invest Cont</td>\n",
       "      <td>745.0</td>\n",
       "      <td>998.0</td>\n",
       "      <td>NaN</td>\n",
       "      <td>NaN</td>\n",
       "      <td>HILL                         ST</td>\n",
       "      <td>CESAR E CHAVEZ</td>\n",
       "      <td>(34.0591, -118.2412)</td>\n",
       "    </tr>\n",
       "    <tr>\n",
       "      <th>4</th>\n",
       "      <td>150100506</td>\n",
       "      <td>01/01/2015</td>\n",
       "      <td>01/01/2015</td>\n",
       "      <td>240</td>\n",
       "      <td>1</td>\n",
       "      <td>Central</td>\n",
       "      <td>162</td>\n",
       "      <td>626</td>\n",
       "      <td>INTIMATE PARTNER - SIMPLE ASSAULT</td>\n",
       "      <td>2000 1243 0416 1251 0400 0444</td>\n",
       "      <td>...</td>\n",
       "      <td>STRONG-ARM (HANDS, FIST, FEET OR BODILY FORCE)</td>\n",
       "      <td>AO</td>\n",
       "      <td>Adult Other</td>\n",
       "      <td>626.0</td>\n",
       "      <td>NaN</td>\n",
       "      <td>NaN</td>\n",
       "      <td>NaN</td>\n",
       "      <td>500 W  7TH                          ST</td>\n",
       "      <td>NaN</td>\n",
       "      <td>(34.0467, -118.2556)</td>\n",
       "    </tr>\n",
       "    <tr>\n",
       "      <th>...</th>\n",
       "      <td>...</td>\n",
       "      <td>...</td>\n",
       "      <td>...</td>\n",
       "      <td>...</td>\n",
       "      <td>...</td>\n",
       "      <td>...</td>\n",
       "      <td>...</td>\n",
       "      <td>...</td>\n",
       "      <td>...</td>\n",
       "      <td>...</td>\n",
       "      <td>...</td>\n",
       "      <td>...</td>\n",
       "      <td>...</td>\n",
       "      <td>...</td>\n",
       "      <td>...</td>\n",
       "      <td>...</td>\n",
       "      <td>...</td>\n",
       "      <td>...</td>\n",
       "      <td>...</td>\n",
       "      <td>...</td>\n",
       "      <td>...</td>\n",
       "    </tr>\n",
       "    <tr>\n",
       "      <th>1048570</th>\n",
       "      <td>130216294</td>\n",
       "      <td>07/23/2013</td>\n",
       "      <td>06/14/2013</td>\n",
       "      <td>900</td>\n",
       "      <td>2</td>\n",
       "      <td>Rampart</td>\n",
       "      <td>236</td>\n",
       "      <td>624</td>\n",
       "      <td>BATTERY - SIMPLE ASSAULT</td>\n",
       "      <td>1202 0447 0448</td>\n",
       "      <td>...</td>\n",
       "      <td>STRONG-ARM (HANDS, FIST, FEET OR BODILY FORCE)</td>\n",
       "      <td>IC</td>\n",
       "      <td>Invest Cont</td>\n",
       "      <td>624.0</td>\n",
       "      <td>NaN</td>\n",
       "      <td>NaN</td>\n",
       "      <td>NaN</td>\n",
       "      <td>100 S  UNION                        AV</td>\n",
       "      <td>NaN</td>\n",
       "      <td>(34.0646, -118.2656)</td>\n",
       "    </tr>\n",
       "    <tr>\n",
       "      <th>1048571</th>\n",
       "      <td>130216296</td>\n",
       "      <td>07/23/2013</td>\n",
       "      <td>07/13/2013</td>\n",
       "      <td>1200</td>\n",
       "      <td>2</td>\n",
       "      <td>Rampart</td>\n",
       "      <td>216</td>\n",
       "      <td>510</td>\n",
       "      <td>VEHICLE - STOLEN</td>\n",
       "      <td>NaN</td>\n",
       "      <td>...</td>\n",
       "      <td>NaN</td>\n",
       "      <td>IC</td>\n",
       "      <td>Invest Cont</td>\n",
       "      <td>510.0</td>\n",
       "      <td>NaN</td>\n",
       "      <td>NaN</td>\n",
       "      <td>NaN</td>\n",
       "      <td>TEMPLE                       ST</td>\n",
       "      <td>LAKE</td>\n",
       "      <td>(34.0707, -118.2693)</td>\n",
       "    </tr>\n",
       "    <tr>\n",
       "      <th>1048572</th>\n",
       "      <td>130216297</td>\n",
       "      <td>07/23/2013</td>\n",
       "      <td>07/23/2013</td>\n",
       "      <td>1615</td>\n",
       "      <td>2</td>\n",
       "      <td>Rampart</td>\n",
       "      <td>281</td>\n",
       "      <td>480</td>\n",
       "      <td>BIKE - STOLEN</td>\n",
       "      <td>0345 0344 1402</td>\n",
       "      <td>...</td>\n",
       "      <td>NaN</td>\n",
       "      <td>IC</td>\n",
       "      <td>Invest Cont</td>\n",
       "      <td>480.0</td>\n",
       "      <td>998.0</td>\n",
       "      <td>NaN</td>\n",
       "      <td>NaN</td>\n",
       "      <td>1200 S  ALVARADO                     ST</td>\n",
       "      <td>NaN</td>\n",
       "      <td>(34.0488, -118.2817)</td>\n",
       "    </tr>\n",
       "    <tr>\n",
       "      <th>1048573</th>\n",
       "      <td>130216301</td>\n",
       "      <td>07/23/2013</td>\n",
       "      <td>07/17/2013</td>\n",
       "      <td>1200</td>\n",
       "      <td>2</td>\n",
       "      <td>Rampart</td>\n",
       "      <td>216</td>\n",
       "      <td>649</td>\n",
       "      <td>DOCUMENT FORGERY / STOLEN FELONY</td>\n",
       "      <td>0100 1817 0923</td>\n",
       "      <td>...</td>\n",
       "      <td>NaN</td>\n",
       "      <td>IC</td>\n",
       "      <td>Invest Cont</td>\n",
       "      <td>649.0</td>\n",
       "      <td>NaN</td>\n",
       "      <td>NaN</td>\n",
       "      <td>NaN</td>\n",
       "      <td>700    CORONADO                     TR</td>\n",
       "      <td>NaN</td>\n",
       "      <td>(34.0754, -118.2702)</td>\n",
       "    </tr>\n",
       "    <tr>\n",
       "      <th>1048574</th>\n",
       "      <td>130216302</td>\n",
       "      <td>07/23/2013</td>\n",
       "      <td>07/23/2013</td>\n",
       "      <td>1345</td>\n",
       "      <td>2</td>\n",
       "      <td>Rampart</td>\n",
       "      <td>251</td>\n",
       "      <td>624</td>\n",
       "      <td>BATTERY - SIMPLE ASSAULT</td>\n",
       "      <td>0913 0917 0603 0444 0416</td>\n",
       "      <td>...</td>\n",
       "      <td>STRONG-ARM (HANDS, FIST, FEET OR BODILY FORCE)</td>\n",
       "      <td>AO</td>\n",
       "      <td>Adult Other</td>\n",
       "      <td>624.0</td>\n",
       "      <td>NaN</td>\n",
       "      <td>NaN</td>\n",
       "      <td>NaN</td>\n",
       "      <td>600 S  RAMPART                      BL</td>\n",
       "      <td>NaN</td>\n",
       "      <td>(34.0624, -118.2813)</td>\n",
       "    </tr>\n",
       "  </tbody>\n",
       "</table>\n",
       "<p>1048575 rows × 26 columns</p>\n",
       "</div>"
      ],
      "text/plain": [
       "         DR Number Date Reported Date Occurred  Time Occurred  Area ID  \\\n",
       "0              809    01/17/2015    01/16/2015           2130        9   \n",
       "1        141801696    01/01/2015    01/01/2015            230       18   \n",
       "2        141816266    11/05/2015    10/01/2015            800       12   \n",
       "3        150100503    01/01/2015    01/01/2015             40        1   \n",
       "4        150100506    01/01/2015    01/01/2015            240        1   \n",
       "...            ...           ...           ...            ...      ...   \n",
       "1048570  130216294    07/23/2013    06/14/2013            900        2   \n",
       "1048571  130216296    07/23/2013    07/13/2013           1200        2   \n",
       "1048572  130216297    07/23/2013    07/23/2013           1615        2   \n",
       "1048573  130216301    07/23/2013    07/17/2013           1200        2   \n",
       "1048574  130216302    07/23/2013    07/23/2013           1345        2   \n",
       "\n",
       "           Area Name  Reporting District  Crime Code  \\\n",
       "0           Van Nuys                 938         510   \n",
       "1          Southeast                1823         626   \n",
       "2        77th Street                1249         805   \n",
       "3            Central                 111         745   \n",
       "4            Central                 162         626   \n",
       "...              ...                 ...         ...   \n",
       "1048570      Rampart                 236         624   \n",
       "1048571      Rampart                 216         510   \n",
       "1048572      Rampart                 281         480   \n",
       "1048573      Rampart                 216         649   \n",
       "1048574      Rampart                 251         624   \n",
       "\n",
       "                           Crime Code Description  \\\n",
       "0                                VEHICLE - STOLEN   \n",
       "1               INTIMATE PARTNER - SIMPLE ASSAULT   \n",
       "2                                         PIMPING   \n",
       "3        VANDALISM - MISDEAMEANOR ($399 OR UNDER)   \n",
       "4               INTIMATE PARTNER - SIMPLE ASSAULT   \n",
       "...                                           ...   \n",
       "1048570                  BATTERY - SIMPLE ASSAULT   \n",
       "1048571                          VEHICLE - STOLEN   \n",
       "1048572                             BIKE - STOLEN   \n",
       "1048573          DOCUMENT FORGERY / STOLEN FELONY   \n",
       "1048574                  BATTERY - SIMPLE ASSAULT   \n",
       "\n",
       "                              MO Codes  ...  \\\n",
       "0                                  NaN  ...   \n",
       "1             2000 0444 0429 0416 1276  ...   \n",
       "2                       1402 0908 0913  ...   \n",
       "3                            0329 1402  ...   \n",
       "4        2000 1243 0416 1251 0400 0444  ...   \n",
       "...                                ...  ...   \n",
       "1048570                 1202 0447 0448  ...   \n",
       "1048571                            NaN  ...   \n",
       "1048572                 0345 0344 1402  ...   \n",
       "1048573                 0100 1817 0923  ...   \n",
       "1048574       0913 0917 0603 0444 0416  ...   \n",
       "\n",
       "                                     Weapon Description Status Code  \\\n",
       "0                                                   NaN          IC   \n",
       "1        STRONG-ARM (HANDS, FIST, FEET OR BODILY FORCE)          IC   \n",
       "2                                                   NaN          AA   \n",
       "3                                                   NaN          IC   \n",
       "4        STRONG-ARM (HANDS, FIST, FEET OR BODILY FORCE)          AO   \n",
       "...                                                 ...         ...   \n",
       "1048570  STRONG-ARM (HANDS, FIST, FEET OR BODILY FORCE)          IC   \n",
       "1048571                                             NaN          IC   \n",
       "1048572                                             NaN          IC   \n",
       "1048573                                             NaN          IC   \n",
       "1048574  STRONG-ARM (HANDS, FIST, FEET OR BODILY FORCE)          AO   \n",
       "\n",
       "        Status Description  Crime Code 1 Crime Code 2  Crime Code 3  \\\n",
       "0              Invest Cont         510.0          NaN           NaN   \n",
       "1              Invest Cont         626.0          NaN           NaN   \n",
       "2             Adult Arrest         805.0        998.0           NaN   \n",
       "3              Invest Cont         745.0        998.0           NaN   \n",
       "4              Adult Other         626.0          NaN           NaN   \n",
       "...                    ...           ...          ...           ...   \n",
       "1048570        Invest Cont         624.0          NaN           NaN   \n",
       "1048571        Invest Cont         510.0          NaN           NaN   \n",
       "1048572        Invest Cont         480.0        998.0           NaN   \n",
       "1048573        Invest Cont         649.0          NaN           NaN   \n",
       "1048574        Adult Other         624.0          NaN           NaN   \n",
       "\n",
       "        Crime Code 4                                  Address  \\\n",
       "0                NaN  6200    FULTON                       AV   \n",
       "1                NaN   200 E  97TH                         ST   \n",
       "2                NaN          FIGUEROA                     ST   \n",
       "3                NaN          HILL                         ST   \n",
       "4                NaN   500 W  7TH                          ST   \n",
       "...              ...                                      ...   \n",
       "1048570          NaN   100 S  UNION                        AV   \n",
       "1048571          NaN          TEMPLE                       ST   \n",
       "1048572          NaN  1200 S  ALVARADO                     ST   \n",
       "1048573          NaN   700    CORONADO                     TR   \n",
       "1048574          NaN   600 S  RAMPART                      BL   \n",
       "\n",
       "                            Cross Street             Location   \n",
       "0                                    NaN  (34.1814, -118.4263)  \n",
       "1                                    NaN  (33.9483, -118.2717)  \n",
       "2        65TH                         ST  (33.9807, -118.2827)  \n",
       "3                         CESAR E CHAVEZ  (34.0591, -118.2412)  \n",
       "4                                    NaN  (34.0467, -118.2556)  \n",
       "...                                  ...                   ...  \n",
       "1048570                              NaN  (34.0646, -118.2656)  \n",
       "1048571                             LAKE  (34.0707, -118.2693)  \n",
       "1048572                              NaN  (34.0488, -118.2817)  \n",
       "1048573                              NaN  (34.0754, -118.2702)  \n",
       "1048574                              NaN  (34.0624, -118.2813)  \n",
       "\n",
       "[1048575 rows x 26 columns]"
      ]
     },
     "execution_count": 3,
     "metadata": {},
     "output_type": "execute_result"
    }
   ],
   "source": [
    "df1"
   ]
  },
  {
   "cell_type": "code",
   "execution_count": 4,
   "metadata": {},
   "outputs": [
    {
     "data": {
      "text/plain": [
       "(1048575, 26)"
      ]
     },
     "execution_count": 4,
     "metadata": {},
     "output_type": "execute_result"
    }
   ],
   "source": [
    "#large datasets\n",
    "df1.shape"
   ]
  },
  {
   "cell_type": "code",
   "execution_count": 5,
   "metadata": {},
   "outputs": [
    {
     "name": "stdout",
     "output_type": "stream",
     "text": [
      "<class 'pandas.core.frame.DataFrame'>\n",
      "RangeIndex: 1048575 entries, 0 to 1048574\n",
      "Data columns (total 26 columns):\n",
      " #   Column                  Non-Null Count    Dtype  \n",
      "---  ------                  --------------    -----  \n",
      " 0   DR Number               1048575 non-null  int64  \n",
      " 1   Date Reported           1048575 non-null  object \n",
      " 2   Date Occurred           1048575 non-null  object \n",
      " 3   Time Occurred           1048575 non-null  int64  \n",
      " 4   Area ID                 1048575 non-null  int64  \n",
      " 5   Area Name               1048575 non-null  object \n",
      " 6   Reporting District      1048575 non-null  int64  \n",
      " 7   Crime Code              1048575 non-null  int64  \n",
      " 8   Crime Code Description  1048575 non-null  object \n",
      " 9   MO Codes                946412 non-null   object \n",
      " 10  Victim Age              1047962 non-null  float64\n",
      " 11  Victim Sex              589063 non-null   object \n",
      " 12  Victim Descent          589053 non-null   object \n",
      " 13  Premise Code            1048563 non-null  float64\n",
      " 14  Premise Description     1048512 non-null  object \n",
      " 15  Weapon Used Code        366786 non-null   float64\n",
      " 16  Weapon Description      366785 non-null   object \n",
      " 17  Status Code             1048575 non-null  object \n",
      " 18  Status Description      1048575 non-null  object \n",
      " 19  Crime Code 1            1048570 non-null  float64\n",
      " 20  Crime Code 2            71400 non-null    float64\n",
      " 21  Crime Code 3            2149 non-null     float64\n",
      " 22  Crime Code 4            66 non-null       float64\n",
      " 23  Address                 1048575 non-null  object \n",
      " 24  Cross Street            179795 non-null   object \n",
      " 25  Location                1048575 non-null  object \n",
      "dtypes: float64(7), int64(5), object(14)\n",
      "memory usage: 208.0+ MB\n"
     ]
    }
   ],
   "source": [
    "df1.info()"
   ]
  },
  {
   "cell_type": "code",
   "execution_count": 6,
   "metadata": {},
   "outputs": [],
   "source": [
    "#Choose specific rows and columns \n",
    "df2=pd.read_csv(\"Crime_Data_from_2010_to_Present.csv\",\n",
    "                usecols=['Date Occurred','Time Occurred','Area ID','Area Name',\n",
    "                         \"Victim Sex\",\"Victim Age\",\"Victim Descent\",'Crime Code',\"Crime Code Description\",\"Status Description\"]\n",
    "               ,nrows=30000)"
   ]
  },
  {
   "cell_type": "code",
   "execution_count": 7,
   "metadata": {},
   "outputs": [
    {
     "data": {
      "text/html": [
       "<div>\n",
       "<style scoped>\n",
       "    .dataframe tbody tr th:only-of-type {\n",
       "        vertical-align: middle;\n",
       "    }\n",
       "\n",
       "    .dataframe tbody tr th {\n",
       "        vertical-align: top;\n",
       "    }\n",
       "\n",
       "    .dataframe thead th {\n",
       "        text-align: right;\n",
       "    }\n",
       "</style>\n",
       "<table border=\"1\" class=\"dataframe\">\n",
       "  <thead>\n",
       "    <tr style=\"text-align: right;\">\n",
       "      <th></th>\n",
       "      <th>Date Occurred</th>\n",
       "      <th>Time Occurred</th>\n",
       "      <th>Area ID</th>\n",
       "      <th>Area Name</th>\n",
       "      <th>Crime Code</th>\n",
       "      <th>Crime Code Description</th>\n",
       "      <th>Victim Age</th>\n",
       "      <th>Victim Sex</th>\n",
       "      <th>Victim Descent</th>\n",
       "      <th>Status Description</th>\n",
       "    </tr>\n",
       "  </thead>\n",
       "  <tbody>\n",
       "    <tr>\n",
       "      <th>0</th>\n",
       "      <td>01/16/2015</td>\n",
       "      <td>2130</td>\n",
       "      <td>9</td>\n",
       "      <td>Van Nuys</td>\n",
       "      <td>510</td>\n",
       "      <td>VEHICLE - STOLEN</td>\n",
       "      <td>114</td>\n",
       "      <td>NaN</td>\n",
       "      <td>NaN</td>\n",
       "      <td>Invest Cont</td>\n",
       "    </tr>\n",
       "    <tr>\n",
       "      <th>1</th>\n",
       "      <td>01/01/2015</td>\n",
       "      <td>230</td>\n",
       "      <td>18</td>\n",
       "      <td>Southeast</td>\n",
       "      <td>626</td>\n",
       "      <td>INTIMATE PARTNER - SIMPLE ASSAULT</td>\n",
       "      <td>40</td>\n",
       "      <td>F</td>\n",
       "      <td>B</td>\n",
       "      <td>Invest Cont</td>\n",
       "    </tr>\n",
       "    <tr>\n",
       "      <th>2</th>\n",
       "      <td>10/01/2015</td>\n",
       "      <td>800</td>\n",
       "      <td>12</td>\n",
       "      <td>77th Street</td>\n",
       "      <td>805</td>\n",
       "      <td>PIMPING</td>\n",
       "      <td>24</td>\n",
       "      <td>F</td>\n",
       "      <td>B</td>\n",
       "      <td>Adult Arrest</td>\n",
       "    </tr>\n",
       "    <tr>\n",
       "      <th>3</th>\n",
       "      <td>01/01/2015</td>\n",
       "      <td>40</td>\n",
       "      <td>1</td>\n",
       "      <td>Central</td>\n",
       "      <td>745</td>\n",
       "      <td>VANDALISM - MISDEAMEANOR ($399 OR UNDER)</td>\n",
       "      <td>0</td>\n",
       "      <td>M</td>\n",
       "      <td>H</td>\n",
       "      <td>Invest Cont</td>\n",
       "    </tr>\n",
       "    <tr>\n",
       "      <th>4</th>\n",
       "      <td>01/01/2015</td>\n",
       "      <td>240</td>\n",
       "      <td>1</td>\n",
       "      <td>Central</td>\n",
       "      <td>626</td>\n",
       "      <td>INTIMATE PARTNER - SIMPLE ASSAULT</td>\n",
       "      <td>28</td>\n",
       "      <td>F</td>\n",
       "      <td>W</td>\n",
       "      <td>Adult Other</td>\n",
       "    </tr>\n",
       "  </tbody>\n",
       "</table>\n",
       "</div>"
      ],
      "text/plain": [
       "  Date Occurred  Time Occurred  Area ID    Area Name  Crime Code  \\\n",
       "0    01/16/2015           2130        9     Van Nuys         510   \n",
       "1    01/01/2015            230       18    Southeast         626   \n",
       "2    10/01/2015            800       12  77th Street         805   \n",
       "3    01/01/2015             40        1      Central         745   \n",
       "4    01/01/2015            240        1      Central         626   \n",
       "\n",
       "                     Crime Code Description  Victim Age Victim Sex  \\\n",
       "0                          VEHICLE - STOLEN         114        NaN   \n",
       "1         INTIMATE PARTNER - SIMPLE ASSAULT          40          F   \n",
       "2                                   PIMPING          24          F   \n",
       "3  VANDALISM - MISDEAMEANOR ($399 OR UNDER)           0          M   \n",
       "4         INTIMATE PARTNER - SIMPLE ASSAULT          28          F   \n",
       "\n",
       "  Victim Descent Status Description  \n",
       "0            NaN        Invest Cont  \n",
       "1              B        Invest Cont  \n",
       "2              B       Adult Arrest  \n",
       "3              H        Invest Cont  \n",
       "4              W        Adult Other  "
      ]
     },
     "execution_count": 7,
     "metadata": {},
     "output_type": "execute_result"
    }
   ],
   "source": [
    "df2.head()"
   ]
  },
  {
   "cell_type": "code",
   "execution_count": 8,
   "metadata": {},
   "outputs": [
    {
     "name": "stdout",
     "output_type": "stream",
     "text": [
      "<class 'pandas.core.frame.DataFrame'>\n",
      "RangeIndex: 30000 entries, 0 to 29999\n",
      "Data columns (total 10 columns):\n",
      " #   Column                  Non-Null Count  Dtype \n",
      "---  ------                  --------------  ----- \n",
      " 0   Date Occurred           30000 non-null  object\n",
      " 1   Time Occurred           30000 non-null  int64 \n",
      " 2   Area ID                 30000 non-null  int64 \n",
      " 3   Area Name               30000 non-null  object\n",
      " 4   Crime Code              30000 non-null  int64 \n",
      " 5   Crime Code Description  30000 non-null  object\n",
      " 6   Victim Age              30000 non-null  int64 \n",
      " 7   Victim Sex              27877 non-null  object\n",
      " 8   Victim Descent          27877 non-null  object\n",
      " 9   Status Description      30000 non-null  object\n",
      "dtypes: int64(4), object(6)\n",
      "memory usage: 2.3+ MB\n"
     ]
    }
   ],
   "source": [
    "df2.info()"
   ]
  },
  {
   "cell_type": "code",
   "execution_count": 9,
   "metadata": {},
   "outputs": [],
   "source": [
    "#Fill the Null values in Victim Age column with average Victim Age\n",
    "df2[\"Victim Age\"]=df2[\"Victim Age\"].fillna(df2[\"Victim Age\"].mean())"
   ]
  },
  {
   "cell_type": "code",
   "execution_count": 10,
   "metadata": {},
   "outputs": [],
   "source": [
    "#Fill Victim Sex with 0\n",
    "df2[\"Victim Sex\"]=df2[\"Victim Sex\"].fillna(0)"
   ]
  },
  {
   "cell_type": "code",
   "execution_count": 11,
   "metadata": {},
   "outputs": [],
   "source": [
    "df2[\"Victim Descent\"]=df2[\"Victim Descent\"].fillna(0)"
   ]
  },
  {
   "cell_type": "code",
   "execution_count": 12,
   "metadata": {},
   "outputs": [
    {
     "name": "stdout",
     "output_type": "stream",
     "text": [
      "<class 'pandas.core.frame.DataFrame'>\n",
      "RangeIndex: 30000 entries, 0 to 29999\n",
      "Data columns (total 10 columns):\n",
      " #   Column                  Non-Null Count  Dtype \n",
      "---  ------                  --------------  ----- \n",
      " 0   Date Occurred           30000 non-null  object\n",
      " 1   Time Occurred           30000 non-null  int64 \n",
      " 2   Area ID                 30000 non-null  int64 \n",
      " 3   Area Name               30000 non-null  object\n",
      " 4   Crime Code              30000 non-null  int64 \n",
      " 5   Crime Code Description  30000 non-null  object\n",
      " 6   Victim Age              30000 non-null  int64 \n",
      " 7   Victim Sex              30000 non-null  object\n",
      " 8   Victim Descent          30000 non-null  object\n",
      " 9   Status Description      30000 non-null  object\n",
      "dtypes: int64(4), object(6)\n",
      "memory usage: 2.3+ MB\n"
     ]
    }
   ],
   "source": [
    "df2.info() #No null values in Age now"
   ]
  },
  {
   "cell_type": "code",
   "execution_count": 13,
   "metadata": {},
   "outputs": [],
   "source": [
    "t=df2.groupby(by='Victim Sex').mean()[\"Victim Age\"]"
   ]
  },
  {
   "cell_type": "code",
   "execution_count": 14,
   "metadata": {
    "scrolled": true
   },
   "outputs": [
    {
     "data": {
      "text/plain": [
       "Victim Sex\n",
       "0    114.270843\n",
       "F     36.279513\n",
       "H     23.500000\n",
       "M     38.119910\n",
       "X      9.529762\n",
       "Name: Victim Age, dtype: float64"
      ]
     },
     "execution_count": 14,
     "metadata": {},
     "output_type": "execute_result"
    }
   ],
   "source": [
    "t"
   ]
  },
  {
   "cell_type": "code",
   "execution_count": 15,
   "metadata": {},
   "outputs": [],
   "source": [
    "d=df2.groupby('Victim Sex')['Victim Age'].mean()"
   ]
  },
  {
   "cell_type": "code",
   "execution_count": 16,
   "metadata": {},
   "outputs": [
    {
     "data": {
      "text/plain": [
       "Victim Sex\n",
       "0    114.270843\n",
       "F     36.279513\n",
       "H     23.500000\n",
       "M     38.119910\n",
       "X      9.529762\n",
       "Name: Victim Age, dtype: float64"
      ]
     },
     "execution_count": 16,
     "metadata": {},
     "output_type": "execute_result"
    }
   ],
   "source": [
    "d"
   ]
  },
  {
   "cell_type": "code",
   "execution_count": 17,
   "metadata": {},
   "outputs": [
    {
     "data": {
      "text/plain": [
       "[0, 'F', 'M', 'X', 'H']"
      ]
     },
     "execution_count": 17,
     "metadata": {},
     "output_type": "execute_result"
    }
   ],
   "source": [
    "#Extract labels and transform array into list\n",
    "label=df2[\"Victim Sex\"].unique().tolist()\n",
    "label"
   ]
  },
  {
   "cell_type": "code",
   "execution_count": null,
   "metadata": {},
   "outputs": [],
   "source": []
  },
  {
   "cell_type": "code",
   "execution_count": 18,
   "metadata": {},
   "outputs": [],
   "source": [
    "#Create this function to display actual values for Average Victim Age in below code\n",
    "def make_autopct(values):\n",
    "    def my_autopct(pct):\n",
    "        total = sum(values)\n",
    "        val = int(round(pct*total/100.0))\n",
    "        # 同时显示数值和占比的饼图\n",
    "        return '{p:.2f}% ({v:d})'.format(p=pct,v=val)\n",
    "    return my_autopct"
   ]
  },
  {
   "cell_type": "code",
   "execution_count": 19,
   "metadata": {},
   "outputs": [
    {
     "data": {
      "image/png": "[encoded data removed]",
      "text/plain": [
       "<Figure size 1200x750 with 1 Axes>"
      ]
     },
     "metadata": {},
     "output_type": "display_data"
    }
   ],
   "source": [
    "#Pie chart\n",
    "#Relationship between avarage Victim Age and Victim Sex\n",
    "plt.figure(dpi=150,figsize=(8,5))\n",
    "plt.subplot(1,1,1)\n",
    "plt.pie(t,labels=label\n",
    "       ,autopct=make_autopct(t.tolist()),shadow=True,colors=[\"#d5695d\",\"#5d8ca8\",\"#65a479\",\"cyan\",\"lavender\"],labeldistance=1.2\n",
    "       ,startangle=90,explode=(0, 0, 0, 0.3,0))\n",
    "plt.title('The Criminal Percentage for Average Victim Age by Sex')\n",
    "plt.legend(loc=\"best\",fontsize=\"small\"\n",
    "         ,title_fontsize=6,markerfirst=True, #Place the legend on the left side\n",
    "           bbox_to_anchor=(0.9, 0., 0.5, 0.3),title=\"Victim Sex\") #Position the legend\n",
    "plt.show()"
   ]
  },
  {
   "cell_type": "code",
   "execution_count": 20,
   "metadata": {},
   "outputs": [
    {
     "data": {
      "text/plain": [
       "Area Name    Victim Sex  Crime Code Description           \n",
       "77th Street  0           VEHICLE - STOLEN                     2\n",
       "             F           BURGLARY FROM VEHICLE                2\n",
       "                         INTIMATE PARTNER - SIMPLE ASSAULT    1\n",
       "                         PIMPING                              1\n",
       "                         ROBBERY                              1\n",
       "                                                             ..\n",
       "West Valley  F           THEFT, PERSON                        1\n",
       "             M           ROBBERY                              2\n",
       "                         BRANDISH WEAPON                      1\n",
       "                         DISTURBING THE PEACE                 1\n",
       "                         VIOLATION OF COURT ORDER             1\n",
       "Name: Crime Code Description, Length: 681, dtype: int64"
      ]
     },
     "execution_count": 20,
     "metadata": {},
     "output_type": "execute_result"
    }
   ],
   "source": [
    "#Look at the the count of Crimes at each Area Name group by Victim Sex\n",
    "d2=df2.groupby(['Area Name',\"Victim Sex\"])['Crime Code Description'].value_counts()\n",
    "d2\n",
    "#you can see the max number of crimes for each Area by Victim Sex"
   ]
  },
  {
   "cell_type": "code",
   "execution_count": 21,
   "metadata": {},
   "outputs": [
    {
     "data": {
      "text/plain": [
       "(681,)"
      ]
     },
     "execution_count": 21,
     "metadata": {},
     "output_type": "execute_result"
    }
   ],
   "source": [
    "d2.shape"
   ]
  },
  {
   "cell_type": "code",
   "execution_count": 22,
   "metadata": {},
   "outputs": [
    {
     "data": {
      "text/plain": [
       "Area Name    Victim Age  Crime Code Description  \n",
       "77th Street  18          BURGLARY FROM VEHICLE       1\n",
       "             20          BURGLARY FROM VEHICLE       1\n",
       "             22          ROBBERY                     1\n",
       "             24          PIMPING                     1\n",
       "             29          STALKING                    1\n",
       "                                                    ..\n",
       "West Valley  40          VIOLATION OF COURT ORDER    1\n",
       "             41          ROBBERY                     1\n",
       "             50          THEFT, PERSON               1\n",
       "             57          CRUELTY TO ANIMALS          1\n",
       "             60          ROBBERY                     1\n",
       "Name: Crime Code Description, Length: 5928, dtype: int64"
      ]
     },
     "execution_count": 22,
     "metadata": {},
     "output_type": "execute_result"
    }
   ],
   "source": [
    "#Look at the the count of Crimes at each Area Name group by Victim Age group\n",
    "d2=df2.groupby(['Area Name',\"Victim Age\"])['Crime Code Description'].value_counts()\n",
    "d2\n",
    "#you can see the max number of crimes for each Area by Victim Sex"
   ]
  },
  {
   "cell_type": "code",
   "execution_count": null,
   "metadata": {},
   "outputs": [],
   "source": []
  },
  {
   "cell_type": "code",
   "execution_count": 23,
   "metadata": {},
   "outputs": [
    {
     "data": {
      "text/plain": [
       "Text(0.5, 1.0, 'Numbers of People over Victim Age Group')"
      ]
     },
     "execution_count": 23,
     "metadata": {},
     "output_type": "execute_result"
    },
    {
     "data": {
      "image/png": "[encoded data removed]",
      "text/plain": [
       "<Figure size 432x288 with 1 Axes>"
      ]
     },
     "metadata": {
      "needs_background": "light"
     },
     "output_type": "display_data"
    }
   ],
   "source": [
    "#Make histogram between age group and number of people who commit a crime\n",
    "plt.hist(x = df2[\"Victim Age\"],\n",
    "         bins = 20,\n",
    "         color= 'steelblue',\n",
    "         edgecolor = 'black')\n",
    "plt.xlabel(\"Victim Age\")\n",
    "plt.ylabel(\"Numbers of People\")\n",
    "plt.title(\"Numbers of People over Victim Age Group\")\n",
    "#This can help see the number of people who commit a crime over specific agae group"
   ]
  },
  {
   "cell_type": "code",
   "execution_count": 24,
   "metadata": {
    "scrolled": true
   },
   "outputs": [],
   "source": [
    "#Sort unique Age values\n",
    "d4=df2['Victim Age'].unique().tolist()"
   ]
  },
  {
   "cell_type": "code",
   "execution_count": 25,
   "metadata": {
    "scrolled": true
   },
   "outputs": [
    {
     "data": {
      "text/plain": [
       "0      114\n",
       "1       40\n",
       "2       24\n",
       "3        0\n",
       "4       28\n",
       "      ... \n",
       "99       4\n",
       "100     92\n",
       "101     99\n",
       "102    100\n",
       "103     96\n",
       "Length: 104, dtype: int64"
      ]
     },
     "execution_count": 25,
     "metadata": {},
     "output_type": "execute_result"
    }
   ],
   "source": [
    "d5=pd.Series(d4)\n",
    "d5"
   ]
  },
  {
   "cell_type": "code",
   "execution_count": 27,
   "metadata": {},
   "outputs": [
    {
     "data": {
      "text/plain": [
       "3       0\n",
       "10      1\n",
       "60      2\n",
       "26      3\n",
       "99      4\n",
       "     ... \n",
       "57    109\n",
       "69    110\n",
       "84    112\n",
       "0     114\n",
       "67    115\n",
       "Length: 104, dtype: int64"
      ]
     },
     "execution_count": 27,
     "metadata": {},
     "output_type": "execute_result"
    }
   ],
   "source": [
    "d5.sort_values(ascending=True)"
   ]
  },
  {
   "cell_type": "code",
   "execution_count": 28,
   "metadata": {},
   "outputs": [
    {
     "data": {
      "text/html": [
       "<div>\n",
       "<style scoped>\n",
       "    .dataframe tbody tr th:only-of-type {\n",
       "        vertical-align: middle;\n",
       "    }\n",
       "\n",
       "    .dataframe tbody tr th {\n",
       "        vertical-align: top;\n",
       "    }\n",
       "\n",
       "    .dataframe thead th {\n",
       "        text-align: right;\n",
       "    }\n",
       "</style>\n",
       "<table border=\"1\" class=\"dataframe\">\n",
       "  <thead>\n",
       "    <tr style=\"text-align: right;\">\n",
       "      <th></th>\n",
       "      <th>Date Occurred</th>\n",
       "      <th>Time Occurred</th>\n",
       "      <th>Area ID</th>\n",
       "      <th>Area Name</th>\n",
       "      <th>Crime Code</th>\n",
       "      <th>Crime Code Description</th>\n",
       "      <th>Victim Age</th>\n",
       "      <th>Victim Sex</th>\n",
       "      <th>Victim Descent</th>\n",
       "      <th>Status Description</th>\n",
       "      <th>Age Group</th>\n",
       "    </tr>\n",
       "  </thead>\n",
       "  <tbody>\n",
       "    <tr>\n",
       "      <th>0</th>\n",
       "      <td>01/16/2015</td>\n",
       "      <td>2130</td>\n",
       "      <td>9</td>\n",
       "      <td>Van Nuys</td>\n",
       "      <td>510</td>\n",
       "      <td>VEHICLE - STOLEN</td>\n",
       "      <td>114</td>\n",
       "      <td>0</td>\n",
       "      <td>0</td>\n",
       "      <td>Invest Cont</td>\n",
       "      <td>Aged</td>\n",
       "    </tr>\n",
       "    <tr>\n",
       "      <th>1</th>\n",
       "      <td>01/01/2015</td>\n",
       "      <td>230</td>\n",
       "      <td>18</td>\n",
       "      <td>Southeast</td>\n",
       "      <td>626</td>\n",
       "      <td>INTIMATE PARTNER - SIMPLE ASSAULT</td>\n",
       "      <td>40</td>\n",
       "      <td>F</td>\n",
       "      <td>B</td>\n",
       "      <td>Invest Cont</td>\n",
       "      <td>Middle aged</td>\n",
       "    </tr>\n",
       "    <tr>\n",
       "      <th>2</th>\n",
       "      <td>10/01/2015</td>\n",
       "      <td>800</td>\n",
       "      <td>12</td>\n",
       "      <td>77th Street</td>\n",
       "      <td>805</td>\n",
       "      <td>PIMPING</td>\n",
       "      <td>24</td>\n",
       "      <td>F</td>\n",
       "      <td>B</td>\n",
       "      <td>Adult Arrest</td>\n",
       "      <td>Young</td>\n",
       "    </tr>\n",
       "    <tr>\n",
       "      <th>3</th>\n",
       "      <td>01/01/2015</td>\n",
       "      <td>40</td>\n",
       "      <td>1</td>\n",
       "      <td>Central</td>\n",
       "      <td>745</td>\n",
       "      <td>VANDALISM - MISDEAMEANOR ($399 OR UNDER)</td>\n",
       "      <td>0</td>\n",
       "      <td>M</td>\n",
       "      <td>H</td>\n",
       "      <td>Invest Cont</td>\n",
       "      <td>NaN</td>\n",
       "    </tr>\n",
       "    <tr>\n",
       "      <th>4</th>\n",
       "      <td>01/01/2015</td>\n",
       "      <td>240</td>\n",
       "      <td>1</td>\n",
       "      <td>Central</td>\n",
       "      <td>626</td>\n",
       "      <td>INTIMATE PARTNER - SIMPLE ASSAULT</td>\n",
       "      <td>28</td>\n",
       "      <td>F</td>\n",
       "      <td>W</td>\n",
       "      <td>Adult Other</td>\n",
       "      <td>Young</td>\n",
       "    </tr>\n",
       "    <tr>\n",
       "      <th>...</th>\n",
       "      <td>...</td>\n",
       "      <td>...</td>\n",
       "      <td>...</td>\n",
       "      <td>...</td>\n",
       "      <td>...</td>\n",
       "      <td>...</td>\n",
       "      <td>...</td>\n",
       "      <td>...</td>\n",
       "      <td>...</td>\n",
       "      <td>...</td>\n",
       "      <td>...</td>\n",
       "    </tr>\n",
       "    <tr>\n",
       "      <th>29995</th>\n",
       "      <td>10/19/2015</td>\n",
       "      <td>1600</td>\n",
       "      <td>3</td>\n",
       "      <td>Southwest</td>\n",
       "      <td>850</td>\n",
       "      <td>INDECENT EXPOSURE</td>\n",
       "      <td>35</td>\n",
       "      <td>F</td>\n",
       "      <td>H</td>\n",
       "      <td>Invest Cont</td>\n",
       "      <td>Middle aged</td>\n",
       "    </tr>\n",
       "    <tr>\n",
       "      <th>29996</th>\n",
       "      <td>10/19/2015</td>\n",
       "      <td>1315</td>\n",
       "      <td>3</td>\n",
       "      <td>Southwest</td>\n",
       "      <td>480</td>\n",
       "      <td>BIKE - STOLEN</td>\n",
       "      <td>23</td>\n",
       "      <td>M</td>\n",
       "      <td>O</td>\n",
       "      <td>Invest Cont</td>\n",
       "      <td>Young</td>\n",
       "    </tr>\n",
       "    <tr>\n",
       "      <th>29997</th>\n",
       "      <td>10/19/2015</td>\n",
       "      <td>900</td>\n",
       "      <td>3</td>\n",
       "      <td>Southwest</td>\n",
       "      <td>440</td>\n",
       "      <td>THEFT PLAIN - PETTY ($950 &amp; UNDER)</td>\n",
       "      <td>22</td>\n",
       "      <td>M</td>\n",
       "      <td>H</td>\n",
       "      <td>Invest Cont</td>\n",
       "      <td>Young</td>\n",
       "    </tr>\n",
       "    <tr>\n",
       "      <th>29998</th>\n",
       "      <td>10/19/2015</td>\n",
       "      <td>1530</td>\n",
       "      <td>3</td>\n",
       "      <td>Southwest</td>\n",
       "      <td>626</td>\n",
       "      <td>INTIMATE PARTNER - SIMPLE ASSAULT</td>\n",
       "      <td>63</td>\n",
       "      <td>F</td>\n",
       "      <td>B</td>\n",
       "      <td>Adult Other</td>\n",
       "      <td>Aged</td>\n",
       "    </tr>\n",
       "    <tr>\n",
       "      <th>29999</th>\n",
       "      <td>10/19/2015</td>\n",
       "      <td>1005</td>\n",
       "      <td>3</td>\n",
       "      <td>Southwest</td>\n",
       "      <td>850</td>\n",
       "      <td>INDECENT EXPOSURE</td>\n",
       "      <td>42</td>\n",
       "      <td>F</td>\n",
       "      <td>H</td>\n",
       "      <td>Adult Arrest</td>\n",
       "      <td>Middle aged</td>\n",
       "    </tr>\n",
       "  </tbody>\n",
       "</table>\n",
       "<p>30000 rows × 11 columns</p>\n",
       "</div>"
      ],
      "text/plain": [
       "      Date Occurred  Time Occurred  Area ID    Area Name  Crime Code  \\\n",
       "0        01/16/2015           2130        9     Van Nuys         510   \n",
       "1        01/01/2015            230       18    Southeast         626   \n",
       "2        10/01/2015            800       12  77th Street         805   \n",
       "3        01/01/2015             40        1      Central         745   \n",
       "4        01/01/2015            240        1      Central         626   \n",
       "...             ...            ...      ...          ...         ...   \n",
       "29995    10/19/2015           1600        3    Southwest         850   \n",
       "29996    10/19/2015           1315        3    Southwest         480   \n",
       "29997    10/19/2015            900        3    Southwest         440   \n",
       "29998    10/19/2015           1530        3    Southwest         626   \n",
       "29999    10/19/2015           1005        3    Southwest         850   \n",
       "\n",
       "                         Crime Code Description  Victim Age Victim Sex  \\\n",
       "0                              VEHICLE - STOLEN         114          0   \n",
       "1             INTIMATE PARTNER - SIMPLE ASSAULT          40          F   \n",
       "2                                       PIMPING          24          F   \n",
       "3      VANDALISM - MISDEAMEANOR ($399 OR UNDER)           0          M   \n",
       "4             INTIMATE PARTNER - SIMPLE ASSAULT          28          F   \n",
       "...                                         ...         ...        ...   \n",
       "29995                         INDECENT EXPOSURE          35          F   \n",
       "29996                             BIKE - STOLEN          23          M   \n",
       "29997        THEFT PLAIN - PETTY ($950 & UNDER)          22          M   \n",
       "29998         INTIMATE PARTNER - SIMPLE ASSAULT          63          F   \n",
       "29999                         INDECENT EXPOSURE          42          F   \n",
       "\n",
       "      Victim Descent Status Description    Age Group  \n",
       "0                  0        Invest Cont         Aged  \n",
       "1                  B        Invest Cont  Middle aged  \n",
       "2                  B       Adult Arrest        Young  \n",
       "3                  H        Invest Cont          NaN  \n",
       "4                  W        Adult Other        Young  \n",
       "...              ...                ...          ...  \n",
       "29995              H        Invest Cont  Middle aged  \n",
       "29996              O        Invest Cont        Young  \n",
       "29997              H        Invest Cont        Young  \n",
       "29998              B        Adult Other         Aged  \n",
       "29999              H       Adult Arrest  Middle aged  \n",
       "\n",
       "[30000 rows x 11 columns]"
      ]
     },
     "execution_count": 28,
     "metadata": {},
     "output_type": "execute_result"
    }
   ],
   "source": [
    "#Cut Age groups by bins\n",
    "df2.loc[:,\"Age Group\"]=pd.cut(df2[\"Victim Age\"],bins=[0,30,60,115],labels=[\"Young\",\"Middle aged\",\"Aged\"])\n",
    "df2"
   ]
  },
  {
   "cell_type": "code",
   "execution_count": 29,
   "metadata": {},
   "outputs": [
    {
     "data": {
      "text/plain": [
       "Age Group  Crime Code Description                          \n",
       "Young      BATTERY - SIMPLE ASSAULT                            1331\n",
       "           THEFT PLAIN - PETTY ($950 & UNDER)                  1142\n",
       "           INTIMATE PARTNER - SIMPLE ASSAULT                    882\n",
       "           ASSAULT WITH DEADLY WEAPON, AGGRAVATED ASSAULT       754\n",
       "           SHOPLIFTING - PETTY THEFT ($950 & UNDER)             743\n",
       "                                                               ... \n",
       "Aged       SHOTS FIRED AT MOVING VEHICLE, TRAIN OR AIRCRAFT       1\n",
       "           THEFT FROM MOTOR VEHICLE - ATTEMPT                     1\n",
       "           THEFT, COIN MACHINE - PETTY ($950 & UNDER)             1\n",
       "           THREATENING PHONE CALLS/LETTERS                        1\n",
       "           VIOLATION OF TEMPORARY RESTRAINING ORDER               1\n",
       "Name: Crime Code Description, Length: 275, dtype: int64"
      ]
     },
     "execution_count": 29,
     "metadata": {},
     "output_type": "execute_result"
    }
   ],
   "source": [
    "#Count of crimes by different Age Group\n",
    "Grouped=df2.groupby([\"Age Group\"])['Crime Code Description'].value_counts()\n",
    "Grouped"
   ]
  },
  {
   "cell_type": "code",
   "execution_count": 147,
   "metadata": {
    "scrolled": false
   },
   "outputs": [
    {
     "data": {
      "text/plain": [
       "Victim Age  Crime Code Description                                  \n",
       "0           VANDALISM - FELONY ($400 & OVER, ALL CHURCH VANDALISMS)      89\n",
       "            SHOPLIFTING - PETTY THEFT ($950 & UNDER)                     79\n",
       "            OTHER MISCELLANEOUS CRIME                                    53\n",
       "            VANDALISM - MISDEAMEANOR ($399 OR UNDER)                     52\n",
       "            THEFT PLAIN - PETTY ($950 & UNDER)                           46\n",
       "            BATTERY POLICE (SIMPLE)                                      36\n",
       "            BURGLARY                                                     26\n",
       "            ROBBERY                                                      25\n",
       "            THEFT-GRAND ($950.01 & OVER)EXCPT,GUNS,FOWL,LIVESTK,PROD     23\n",
       "            TRESPASSING                                                  23\n",
       "            ASSAULT WITH DEADLY WEAPON, AGGRAVATED ASSAULT               22\n",
       "            BATTERY - SIMPLE ASSAULT                                     22\n",
       "            ASSAULT WITH DEADLY WEAPON ON POLICE OFFICER                 19\n",
       "            CRIMINAL THREATS - NO WEAPON DISPLAYED                       18\n",
       "            RESISTING ARREST                                             17\n",
       "            BURGLARY FROM VEHICLE                                        11\n",
       "            DOCUMENT FORGERY / STOLEN FELONY                              9\n",
       "            THEFT OF IDENTITY                                             9\n",
       "            CHILD NEGLECT (SEE 300 W.I.C.)                                8\n",
       "            ATTEMPTED ROBBERY                                             7\n",
       "            DISCHARGE FIREARMS/SHOTS FIRED                                7\n",
       "            LETTERS, LEWD  -  TELEPHONE CALLS, LEWD                       7\n",
       "            BOMB SCARE                                                    6\n",
       "            THEFT FROM MOTOR VEHICLE - GRAND ($400 AND OVER)              6\n",
       "            VIOLATION OF COURT ORDER                                      6\n",
       "            ARSON                                                         5\n",
       "            BRANDISH WEAPON                                               5\n",
       "            INTIMATE PARTNER - SIMPLE ASSAULT                             5\n",
       "            BIKE - STOLEN                                                 4\n",
       "            BURGLARY, ATTEMPTED                                           4\n",
       "                                                                       ... \n",
       "114         KIDNAPPING                                                    1\n",
       "            SHOPLIFTING - ATTEMPT                                         1\n",
       "            THEFT FROM MOTOR VEHICLE - GRAND ($400 AND OVER)              1\n",
       "            THEFT, COIN MACHINE - PETTY ($950 & UNDER)                    1\n",
       "            THEFT, PERSON                                                 1\n",
       "            VIOLATION OF RESTRAINING ORDER                                1\n",
       "115         VEHICLE - STOLEN                                            528\n",
       "            THEFT FROM MOTOR VEHICLE - PETTY ($950 & UNDER)              76\n",
       "            VANDALISM - FELONY ($400 & OVER, ALL CHURCH VANDALISMS)       9\n",
       "            SHOPLIFTING - PETTY THEFT ($950 & UNDER)                      5\n",
       "            ROBBERY                                                       4\n",
       "            ASSAULT WITH DEADLY WEAPON, AGGRAVATED ASSAULT                3\n",
       "            BURGLARY                                                      3\n",
       "            THEFT PLAIN - PETTY ($950 & UNDER)                            3\n",
       "            TRESPASSING                                                   3\n",
       "            DISCHARGE FIREARMS/SHOTS FIRED                                2\n",
       "            EMBEZZLEMENT, GRAND THEFT ($950.01 & OVER)                    2\n",
       "            BATTERY - SIMPLE ASSAULT                                      1\n",
       "            BATTERY POLICE (SIMPLE)                                       1\n",
       "            BIKE - STOLEN                                                 1\n",
       "            BURGLARY FROM VEHICLE                                         1\n",
       "            BURGLARY, ATTEMPTED                                           1\n",
       "            COUNTERFEIT                                                   1\n",
       "            EMBEZZLEMENT, PETTY THEFT ($950 & UNDER)                      1\n",
       "            FAILURE TO YIELD                                              1\n",
       "            INDECENT EXPOSURE                                             1\n",
       "            RESISTING ARREST                                              1\n",
       "            THEFT-GRAND ($950.01 & OVER)EXCPT,GUNS,FOWL,LIVESTK,PROD      1\n",
       "            THREATENING PHONE CALLS/LETTERS                               1\n",
       "            VANDALISM - MISDEAMEANOR ($399 OR UNDER)                      1\n",
       "Name: Crime Code Description, Length: 3055, dtype: int64"
      ]
     },
     "execution_count": 147,
     "metadata": {},
     "output_type": "execute_result"
    }
   ],
   "source": [
    "#group by Victim Age to see the count of crimes,the maximum number of crimes\n",
    "d3=df2.groupby([\"Victim Age\"])['Crime Code Description'].value_counts()\n",
    "d3"
   ]
  },
  {
   "cell_type": "code",
   "execution_count": 30,
   "metadata": {},
   "outputs": [
    {
     "data": {
      "text/html": [
       "<div>\n",
       "<style scoped>\n",
       "    .dataframe tbody tr th:only-of-type {\n",
       "        vertical-align: middle;\n",
       "    }\n",
       "\n",
       "    .dataframe tbody tr th {\n",
       "        vertical-align: top;\n",
       "    }\n",
       "\n",
       "    .dataframe thead th {\n",
       "        text-align: right;\n",
       "    }\n",
       "</style>\n",
       "<table border=\"1\" class=\"dataframe\">\n",
       "  <thead>\n",
       "    <tr style=\"text-align: right;\">\n",
       "      <th></th>\n",
       "      <th>Victim Age</th>\n",
       "      <th>Crime Code Description</th>\n",
       "    </tr>\n",
       "  </thead>\n",
       "  <tbody>\n",
       "    <tr>\n",
       "      <th>0</th>\n",
       "      <td>0</td>\n",
       "      <td>709</td>\n",
       "    </tr>\n",
       "    <tr>\n",
       "      <th>1</th>\n",
       "      <td>1</td>\n",
       "      <td>163</td>\n",
       "    </tr>\n",
       "    <tr>\n",
       "      <th>2</th>\n",
       "      <td>2</td>\n",
       "      <td>18</td>\n",
       "    </tr>\n",
       "    <tr>\n",
       "      <th>3</th>\n",
       "      <td>3</td>\n",
       "      <td>23</td>\n",
       "    </tr>\n",
       "    <tr>\n",
       "      <th>4</th>\n",
       "      <td>4</td>\n",
       "      <td>28</td>\n",
       "    </tr>\n",
       "    <tr>\n",
       "      <th>...</th>\n",
       "      <td>...</td>\n",
       "      <td>...</td>\n",
       "    </tr>\n",
       "    <tr>\n",
       "      <th>99</th>\n",
       "      <td>109</td>\n",
       "      <td>4</td>\n",
       "    </tr>\n",
       "    <tr>\n",
       "      <th>100</th>\n",
       "      <td>110</td>\n",
       "      <td>2</td>\n",
       "    </tr>\n",
       "    <tr>\n",
       "      <th>101</th>\n",
       "      <td>112</td>\n",
       "      <td>3</td>\n",
       "    </tr>\n",
       "    <tr>\n",
       "      <th>102</th>\n",
       "      <td>114</td>\n",
       "      <td>1792</td>\n",
       "    </tr>\n",
       "    <tr>\n",
       "      <th>103</th>\n",
       "      <td>115</td>\n",
       "      <td>651</td>\n",
       "    </tr>\n",
       "  </tbody>\n",
       "</table>\n",
       "<p>104 rows × 2 columns</p>\n",
       "</div>"
      ],
      "text/plain": [
       "     Victim Age  Crime Code Description\n",
       "0             0                     709\n",
       "1             1                     163\n",
       "2             2                      18\n",
       "3             3                      23\n",
       "4             4                      28\n",
       "..          ...                     ...\n",
       "99          109                       4\n",
       "100         110                       2\n",
       "101         112                       3\n",
       "102         114                    1792\n",
       "103         115                     651\n",
       "\n",
       "[104 rows x 2 columns]"
      ]
     },
     "execution_count": 30,
     "metadata": {},
     "output_type": "execute_result"
    }
   ],
   "source": [
    "#count of crimes by Victim Age\n",
    "data2=df2.groupby([\"Victim Age\"],as_index=False)['Crime Code Description'].count()#Make it into a DataFrame\n",
    "data2"
   ]
  },
  {
   "cell_type": "code",
   "execution_count": 31,
   "metadata": {},
   "outputs": [
    {
     "data": {
      "text/plain": [
       "array(['Invest Cont', 'Adult Arrest', 'Adult Other', 'Juv Arrest',\n",
       "       'Juv Other'], dtype=object)"
      ]
     },
     "execution_count": 31,
     "metadata": {},
     "output_type": "execute_result"
    }
   ],
   "source": [
    "#Unique criminal status\n",
    "df2[\"Status Description\"].unique()"
   ]
  },
  {
   "cell_type": "code",
   "execution_count": 161,
   "metadata": {},
   "outputs": [],
   "source": []
  },
  {
   "cell_type": "code",
   "execution_count": 217,
   "metadata": {},
   "outputs": [
    {
     "data": {
      "text/html": [
       "<div>\n",
       "<style scoped>\n",
       "    .dataframe tbody tr th:only-of-type {\n",
       "        vertical-align: middle;\n",
       "    }\n",
       "\n",
       "    .dataframe tbody tr th {\n",
       "        vertical-align: top;\n",
       "    }\n",
       "\n",
       "    .dataframe thead th {\n",
       "        text-align: right;\n",
       "    }\n",
       "</style>\n",
       "<table border=\"1\" class=\"dataframe\">\n",
       "  <thead>\n",
       "    <tr style=\"text-align: right;\">\n",
       "      <th></th>\n",
       "      <th>Status Description</th>\n",
       "      <th>Victim Sex</th>\n",
       "    </tr>\n",
       "  </thead>\n",
       "  <tbody>\n",
       "    <tr>\n",
       "      <th>0</th>\n",
       "      <td>Adult Arrest</td>\n",
       "      <td>2908</td>\n",
       "    </tr>\n",
       "    <tr>\n",
       "      <th>1</th>\n",
       "      <td>Adult Other</td>\n",
       "      <td>4106</td>\n",
       "    </tr>\n",
       "    <tr>\n",
       "      <th>2</th>\n",
       "      <td>Invest Cont</td>\n",
       "      <td>20559</td>\n",
       "    </tr>\n",
       "    <tr>\n",
       "      <th>3</th>\n",
       "      <td>Juv Arrest</td>\n",
       "      <td>244</td>\n",
       "    </tr>\n",
       "    <tr>\n",
       "      <th>4</th>\n",
       "      <td>Juv Other</td>\n",
       "      <td>60</td>\n",
       "    </tr>\n",
       "  </tbody>\n",
       "</table>\n",
       "</div>"
      ],
      "text/plain": [
       "  Status Description  Victim Sex\n",
       "0       Adult Arrest        2908\n",
       "1        Adult Other        4106\n",
       "2        Invest Cont       20559\n",
       "3         Juv Arrest         244\n",
       "4          Juv Other          60"
      ]
     },
     "execution_count": 217,
     "metadata": {},
     "output_type": "execute_result"
    }
   ],
   "source": [
    "#Count number of people under each crime status\n",
    "data4=df2.groupby([\"Status Description\"],as_index=False)['Victim Sex'].count()\n",
    "data4"
   ]
  },
  {
   "cell_type": "code",
   "execution_count": 34,
   "metadata": {},
   "outputs": [
    {
     "data": {
      "text/plain": [
       "<matplotlib.legend.Legend at 0x1ad8854f550>"
      ]
     },
     "execution_count": 34,
     "metadata": {},
     "output_type": "execute_result"
    },
    {
     "data": {
      "image/png": "[encoded data removed]",
      "text/plain": [
       "<Figure size 720x432 with 1 Axes>"
      ]
     },
     "metadata": {
      "needs_background": "light"
     },
     "output_type": "display_data"
    }
   ],
   "source": [
    "#Count of Crimes by Age\n",
    "plt.figure(figsize=[10,6])\n",
    "plt.plot(data2[\"Victim Age\"],data2[\"Crime Code Description\"],color=\"cyan\",linewidth=2,marker=\"o\",markersize=3,linestyle='--',alpha=0.3,\n",
    "        label=\"Count of Crimes by Age Group\")\n",
    "plt.xlim(0,120)\n",
    "plt.ylim(0,2000)\n",
    "plt.xlabel(\"Age\",fontsize=10)\n",
    "plt.ylabel(\"Count of Crimes\",fontsize=10)\n",
    "plt.grid()\n",
    "plt.legend()"
   ]
  },
  {
   "cell_type": "code",
   "execution_count": 35,
   "metadata": {},
   "outputs": [
    {
     "data": {
      "text/html": [
       "<div>\n",
       "<style scoped>\n",
       "    .dataframe tbody tr th:only-of-type {\n",
       "        vertical-align: middle;\n",
       "    }\n",
       "\n",
       "    .dataframe tbody tr th {\n",
       "        vertical-align: top;\n",
       "    }\n",
       "\n",
       "    .dataframe thead th {\n",
       "        text-align: right;\n",
       "    }\n",
       "</style>\n",
       "<table border=\"1\" class=\"dataframe\">\n",
       "  <thead>\n",
       "    <tr style=\"text-align: right;\">\n",
       "      <th></th>\n",
       "      <th>Date Occurred</th>\n",
       "      <th>Time Occurred</th>\n",
       "      <th>Area ID</th>\n",
       "      <th>Area Name</th>\n",
       "      <th>Crime Code</th>\n",
       "      <th>Crime Code Description</th>\n",
       "      <th>Victim Age</th>\n",
       "      <th>Victim Sex</th>\n",
       "      <th>Victim Descent</th>\n",
       "      <th>Status Description</th>\n",
       "      <th>Age Group</th>\n",
       "    </tr>\n",
       "  </thead>\n",
       "  <tbody>\n",
       "    <tr>\n",
       "      <th>0</th>\n",
       "      <td>01/16/2015</td>\n",
       "      <td>2130</td>\n",
       "      <td>9</td>\n",
       "      <td>Van Nuys</td>\n",
       "      <td>510</td>\n",
       "      <td>VEHICLE - STOLEN</td>\n",
       "      <td>114</td>\n",
       "      <td>0</td>\n",
       "      <td>0</td>\n",
       "      <td>Invest Cont</td>\n",
       "      <td>Aged</td>\n",
       "    </tr>\n",
       "    <tr>\n",
       "      <th>1</th>\n",
       "      <td>01/01/2015</td>\n",
       "      <td>230</td>\n",
       "      <td>18</td>\n",
       "      <td>Southeast</td>\n",
       "      <td>626</td>\n",
       "      <td>INTIMATE PARTNER - SIMPLE ASSAULT</td>\n",
       "      <td>40</td>\n",
       "      <td>F</td>\n",
       "      <td>B</td>\n",
       "      <td>Invest Cont</td>\n",
       "      <td>Middle aged</td>\n",
       "    </tr>\n",
       "    <tr>\n",
       "      <th>2</th>\n",
       "      <td>10/01/2015</td>\n",
       "      <td>800</td>\n",
       "      <td>12</td>\n",
       "      <td>77th Street</td>\n",
       "      <td>805</td>\n",
       "      <td>PIMPING</td>\n",
       "      <td>24</td>\n",
       "      <td>F</td>\n",
       "      <td>B</td>\n",
       "      <td>Adult Arrest</td>\n",
       "      <td>Young</td>\n",
       "    </tr>\n",
       "    <tr>\n",
       "      <th>3</th>\n",
       "      <td>01/01/2015</td>\n",
       "      <td>40</td>\n",
       "      <td>1</td>\n",
       "      <td>Central</td>\n",
       "      <td>745</td>\n",
       "      <td>VANDALISM - MISDEAMEANOR ($399 OR UNDER)</td>\n",
       "      <td>0</td>\n",
       "      <td>M</td>\n",
       "      <td>H</td>\n",
       "      <td>Invest Cont</td>\n",
       "      <td>NaN</td>\n",
       "    </tr>\n",
       "    <tr>\n",
       "      <th>4</th>\n",
       "      <td>01/01/2015</td>\n",
       "      <td>240</td>\n",
       "      <td>1</td>\n",
       "      <td>Central</td>\n",
       "      <td>626</td>\n",
       "      <td>INTIMATE PARTNER - SIMPLE ASSAULT</td>\n",
       "      <td>28</td>\n",
       "      <td>F</td>\n",
       "      <td>W</td>\n",
       "      <td>Adult Other</td>\n",
       "      <td>Young</td>\n",
       "    </tr>\n",
       "  </tbody>\n",
       "</table>\n",
       "</div>"
      ],
      "text/plain": [
       "  Date Occurred  Time Occurred  Area ID    Area Name  Crime Code  \\\n",
       "0    01/16/2015           2130        9     Van Nuys         510   \n",
       "1    01/01/2015            230       18    Southeast         626   \n",
       "2    10/01/2015            800       12  77th Street         805   \n",
       "3    01/01/2015             40        1      Central         745   \n",
       "4    01/01/2015            240        1      Central         626   \n",
       "\n",
       "                     Crime Code Description  Victim Age Victim Sex  \\\n",
       "0                          VEHICLE - STOLEN         114          0   \n",
       "1         INTIMATE PARTNER - SIMPLE ASSAULT          40          F   \n",
       "2                                   PIMPING          24          F   \n",
       "3  VANDALISM - MISDEAMEANOR ($399 OR UNDER)           0          M   \n",
       "4         INTIMATE PARTNER - SIMPLE ASSAULT          28          F   \n",
       "\n",
       "  Victim Descent Status Description    Age Group  \n",
       "0              0        Invest Cont         Aged  \n",
       "1              B        Invest Cont  Middle aged  \n",
       "2              B       Adult Arrest        Young  \n",
       "3              H        Invest Cont          NaN  \n",
       "4              W        Adult Other        Young  "
      ]
     },
     "execution_count": 35,
     "metadata": {},
     "output_type": "execute_result"
    }
   ],
   "source": [
    "df2.head()"
   ]
  },
  {
   "cell_type": "code",
   "execution_count": 36,
   "metadata": {},
   "outputs": [
    {
     "data": {
      "text/html": [
       "<div>\n",
       "<style scoped>\n",
       "    .dataframe tbody tr th:only-of-type {\n",
       "        vertical-align: middle;\n",
       "    }\n",
       "\n",
       "    .dataframe tbody tr th {\n",
       "        vertical-align: top;\n",
       "    }\n",
       "\n",
       "    .dataframe thead th {\n",
       "        text-align: right;\n",
       "    }\n",
       "</style>\n",
       "<table border=\"1\" class=\"dataframe\">\n",
       "  <thead>\n",
       "    <tr style=\"text-align: right;\">\n",
       "      <th></th>\n",
       "      <th>Age Group</th>\n",
       "      <th>Crime Code Description</th>\n",
       "    </tr>\n",
       "  </thead>\n",
       "  <tbody>\n",
       "    <tr>\n",
       "      <th>0</th>\n",
       "      <td>Young</td>\n",
       "      <td>11145</td>\n",
       "    </tr>\n",
       "    <tr>\n",
       "      <th>1</th>\n",
       "      <td>Middle aged</td>\n",
       "      <td>13497</td>\n",
       "    </tr>\n",
       "    <tr>\n",
       "      <th>2</th>\n",
       "      <td>Aged</td>\n",
       "      <td>4649</td>\n",
       "    </tr>\n",
       "  </tbody>\n",
       "</table>\n",
       "</div>"
      ],
      "text/plain": [
       "     Age Group  Crime Code Description\n",
       "0        Young                   11145\n",
       "1  Middle aged                   13497\n",
       "2         Aged                    4649"
      ]
     },
     "execution_count": 36,
     "metadata": {},
     "output_type": "execute_result"
    }
   ],
   "source": [
    "#Count crime by Age Group\n",
    "data3=df2.groupby([\"Age Group\"],as_index=False)['Crime Code Description'].count()\n",
    "data3"
   ]
  },
  {
   "cell_type": "code",
   "execution_count": 37,
   "metadata": {},
   "outputs": [
    {
     "data": {
      "image/png": "[encoded data removed]",
      "text/plain": [
       "<Figure size 720x432 with 1 Axes>"
      ]
     },
     "metadata": {
      "needs_background": "light"
     },
     "output_type": "display_data"
    }
   ],
   "source": [
    "#Line chart to look at the relationship between Age group and count \n",
    "plt.figure(figsize=[10,6])\n",
    "plt.bar(data3[\"Age Group\"],data3[\"Crime Code Description\"],color=[\"cyan\",\"magenta\",\"green\"],width=0.5,label=[\"Young\",\"Middle Aged Group\",\"Aged\"]) #可以用颜色编码,线太细改粗可以用linewidth,点的大小是markersize\n",
    "plt.xlabel(\"Age Group\",fontsize=10)\n",
    "plt.ylabel(\"Count of Crimes\",fontsize=10)\n",
    "plt.grid()\n",
    "plt.title(\"Count of Crimes of Different Age Groups\")\n",
    "plt.legend(loc=\"best\")\n",
    "plt.show() "
   ]
  }
 ],
 "metadata": {
  "kernelspec": {
   "display_name": "Python 3 (ipykernel)",
   "language": "python",
   "name": "python3"
  },
  "language_info": {
   "codemirror_mode": {
    "name": "ipython",
    "version": 3
   },
   "file_extension": ".py",
   "mimetype": "text/x-python",
   "name": "python",
   "nbconvert_exporter": "python",
   "pygments_lexer": "ipython3",
   "version": "3.9.7"
  },
  "toc": {
   "base_numbering": 1,
   "nav_menu": {},
   "number_sections": true,
   "sideBar": true,
   "skip_h1_title": false,
   "title_cell": "Table of Contents",
   "title_sidebar": "Contents",
   "toc_cell": true,
   "toc_position": {},
   "toc_section_display": true,
   "toc_window_display": false
  }
 },
 "nbformat": 4,
 "nbformat_minor": 2
}
